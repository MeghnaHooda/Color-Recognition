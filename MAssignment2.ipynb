{
 "cells": [
  {
   "cell_type": "code",
   "execution_count": 16,
   "metadata": {},
   "outputs": [],
   "source": [
    "import cv2   \n",
    "import numpy as np\n",
    "\n",
    "#capturing video through webcam\n",
    "cap=cv2.VideoCapture(0)\n",
    "cap.set(3,1024)\n",
    "cap.set(4,760)\n",
    "\n",
    "\n",
    "# define the lower and upper boundaries of the colors.\n",
    "lower = {'red':(166, 84, 141), 'green':(66, 122, 129), 'blue':(99,115,150), 'yellow':(23, 59, 119), 'orange':(0, 50, 80)} #assign new item lower['blue'] = (93, 10, 0)\n",
    "upper = {'red':(186,255,255), 'green':(86,255,255), 'blue':(110,255,255), 'yellow':(54,255,255), 'orange':(20,255,255)}\n",
    " \n",
    "# define standard colors for circle.\n",
    "colors = {'red':(0,0,255), 'green':(0,255,0), 'blue':(255,0,0), 'yellow':(0, 255, 217), 'orange':(0,140,255)}\n",
    " \n",
    "\n",
    "\n",
    "while(1):\n",
    "    # grab the frame\n",
    "    (grabbed, frame) = cap.read()\n",
    "    \n",
    "    hsv = cv2.cvtColor(frame, cv2.COLOR_BGR2HSV)\n",
    "    #for each color in dictionary check object in frame\n",
    "    for key, value in upper.items():\n",
    "        kernel = np.ones((9,9),np.uint8)\n",
    "        mask = cv2.inRange(hsv, lower[key], upper[key])\n",
    "        mask = cv2.morphologyEx(mask, cv2.MORPH_OPEN, kernel)\n",
    "        mask = cv2.morphologyEx(mask, cv2.MORPH_CLOSE, kernel)\n",
    "\n",
    "        cnts = cv2.findContours(mask.copy(), cv2.RETR_EXTERNAL,\n",
    "            cv2.CHAIN_APPROX_SIMPLE)[-2]\n",
    "        center = None\n",
    "       \n",
    "        # only proceed if at least one contour was found\n",
    "        if len(cnts) > 0:\n",
    "            #compute the minimum enclosing circle and centroid\n",
    "            c = max(cnts, key=cv2.contourArea)\n",
    "            ((x, y), radius) = cv2.minEnclosingCircle(c)\n",
    "            M = cv2.moments(c)\n",
    "            center = (int(M[\"m10\"] / M[\"m00\"]), int(M[\"m01\"] / M[\"m00\"]))\n",
    "       \n",
    "            # only proceed if the radius meets a minimum size.\n",
    "            if radius > 0.5:\n",
    "                # draw the circle and centroid on the frame,\n",
    "                cv2.circle(frame, (int(x), int(y)), int(radius), colors[key], 2)\n",
    "                cv2.circle(frame, center, 3, colors[key],-1)\n",
    "                cv2.putText(frame,key, (int(x-radius),int(y-radius)), cv2.FONT_HERSHEY_SIMPLEX, 0.6,colors[key],2)\n",
    "                cv2.putText(frame,\"(\"+str(center[0])+\",\"+str(center[1])+\")\",(center[0]+10,center[1]+15), cv2.FONT_HERSHEY_SIMPLEX,0.6,colors[key],1)\n",
    "                \n",
    "    # show the frame to our screen\n",
    "    cv2.imshow(\"Frame\", frame)\n",
    "    \n",
    "    #If escape key is press window will be closed.\n",
    "    if cv2.waitKey(1)==27:\n",
    "        cap.release()\n",
    "        cv2.destroyAllWindows()\n",
    "        break \n",
    "    #close any open windows"
   ]
  },
  {
   "cell_type": "code",
   "execution_count": null,
   "metadata": {},
   "outputs": [],
   "source": []
  },
  {
   "cell_type": "code",
   "execution_count": null,
   "metadata": {},
   "outputs": [],
   "source": []
  }
 ],
 "metadata": {
  "kernelspec": {
   "display_name": "Python 3",
   "language": "python",
   "name": "python3"
  },
  "language_info": {
   "codemirror_mode": {
    "name": "ipython",
    "version": 3
   },
   "file_extension": ".py",
   "mimetype": "text/x-python",
   "name": "python",
   "nbconvert_exporter": "python",
   "pygments_lexer": "ipython3",
   "version": "3.6.5"
  }
 },
 "nbformat": 4,
 "nbformat_minor": 2
}
